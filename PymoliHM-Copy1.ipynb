{
 "cells": [
  {
   "cell_type": "code",
   "execution_count": 1,
   "metadata": {},
   "outputs": [],
   "source": [
    "#RBooth\n",
    "#'AZPHX20190219DATA\n",
    "# Unit 4 | Assignment - Pandas, Pandas, Pandas\n",
    "#******************************************\n",
    "\n",
    "#As Data Analyst for gaming company Pymoli, a free-to-play game, my task is to\n",
    "#is find insights from purchasing data to help drive sales of optional items which enhance \n",
    "#our player's experience.\n",
    "#I am tasked to create a report that breaks down the game's purchasing data into meaningful\n",
    "#insights, including: a player count, purchasing analysis ##item, average purchase price,\n",
    "#volumn, and revenue##, breakdowns of demographics, identification of our top five customers\n",
    "# ##spending##, top 5 most popular products ##count##, and the top 5 most profitable items \n",
    "# ##gross##.\n",
    "\n",
    "#******************************************"
   ]
  },
  {
   "cell_type": "code",
   "execution_count": 2,
   "metadata": {},
   "outputs": [],
   "source": [
    "## The data is has been provided in a CSV file:\"purchase_data.csv\". It looks like this:\n",
    "#**************************************************************************\n",
    "##Purchase ID,SN,Age,Gender,Item ID,Item Name,Price\n",
    "##0,Lisim78,20,Male,108,\"Extraction, Quickblade Of Trembling Hands\",3.53##\n",
    "#**************************************************************************"
   ]
  },
  {
   "cell_type": "code",
   "execution_count": 7,
   "metadata": {},
   "outputs": [],
   "source": [
    "import pandas as pd\n",
    "import numpy as np\n",
    "from IPython.display import display\n",
    "import statistics"
   ]
  },
  {
   "cell_type": "code",
   "execution_count": 8,
   "metadata": {},
   "outputs": [],
   "source": [
    "file_to_load = \"purchase_data.csv\"\n",
    "pymoli_games_df = pd.read_csv(file_to_load)"
   ]
  },
  {
   "cell_type": "code",
   "execution_count": 6,
   "metadata": {},
   "outputs": [],
   "source": [
    "#structure of df = pd.DataFrame(pymoli_games_df)\n",
    "#df.info()\n",
    "#<class 'pandas.core.frame.DataFrame'>\n",
    "#RangeIndex: 780 entries, 0 to 779\n",
    "#Data columns (total 7 columns):\n",
    "#Purchase ID    780 non-null int64\n",
    "#SN             780 non-null object\n",
    "#Age            780 non-null int64\n",
    "#Gender         780 non-null object\n",
    "#Item ID        780 non-null int64\n",
    "#Item Name      780 non-null object\n",
    "#Price          780 non-null float64\n",
    "#dtypes: float64(1), int64(3), object(3)\n",
    "#memory usage: 42.7+ KB"
   ]
  },
  {
   "cell_type": "code",
   "execution_count": 7,
   "metadata": {},
   "outputs": [
    {
     "data": {
      "text/html": [
       "<div>\n",
       "<style scoped>\n",
       "    .dataframe tbody tr th:only-of-type {\n",
       "        vertical-align: middle;\n",
       "    }\n",
       "\n",
       "    .dataframe tbody tr th {\n",
       "        vertical-align: top;\n",
       "    }\n",
       "\n",
       "    .dataframe thead th {\n",
       "        text-align: right;\n",
       "    }\n",
       "</style>\n",
       "<table border=\"1\" class=\"dataframe\">\n",
       "  <thead>\n",
       "    <tr style=\"text-align: right;\">\n",
       "      <th></th>\n",
       "      <th>Total Players</th>\n",
       "    </tr>\n",
       "  </thead>\n",
       "  <tbody>\n",
       "    <tr>\n",
       "      <th>0</th>\n",
       "      <td>576</td>\n",
       "    </tr>\n",
       "  </tbody>\n",
       "</table>\n",
       "</div>"
      ],
      "text/plain": [
       "   Total Players\n",
       "0            576"
      ]
     },
     "execution_count": 7,
     "metadata": {},
     "output_type": "execute_result"
    }
   ],
   "source": [
    "#Calculations for player count\n",
    "unique_customers = pymoli_games_df['SN'].nunique(dropna=True)\n",
    "# Create a DataFrame for unique players\n",
    "frame_df = pd.DataFrame ({\n",
    "    'Total Players': [''],\n",
    "    'Total Players': [unique_customers],\n",
    "})\n",
    "frame_df"
   ]
  },
  {
   "cell_type": "code",
   "execution_count": 19,
   "metadata": {},
   "outputs": [
    {
     "name": "stdout",
     "output_type": "stream",
     "text": [
      "183\n"
     ]
    }
   ],
   "source": [
    "#for number of purchases number_of_purchases = pymoli_games_df['Item Name'].value_counts()\n",
    "number_of_purchases = pymoli_games_df['SN'].count()\n",
    "\n",
    "# The Price and items columns are the wrong data type. It should be numeric\n",
    "total_revenue = pymoli_games_df[\"Price\"].sum()\n",
    "\n",
    "#for average price: average_price = pymoli_games_df[:,\"Price\"].mean()\n",
    "# Grouping by one factor\n",
    "pymol_ave_price = total_revenue / number_of_purchases\n",
    "\n",
    "#for unique items: = pymoli_games_df['Item ID'].nunique() need to fix this column because\n",
    "#first record is zero.Item ID -780 non-null int64\n",
    "#unique_items = pymoli_games_df['Item Name'].nunique\n",
    "\n",
    "unique_items = pymoli_games_df[\"Item ID\"].nunique()\n"
   ]
  },
  {
   "cell_type": "code",
   "execution_count": 8,
   "metadata": {},
   "outputs": [],
   "source": [
    "# Trick!!\n",
    "#df['unit'] = 1\n",
    "#dg = df.groupby('id')\n",
    "#df[dg['unit'].cumsum()==1] # use group bools in the original frame\n",
    "#may be useful later....clean up gender np.where(condition1, x1, \n",
    "        #np.where(condition2, x2, \n",
    "            #np.where(condition3, x3, ...)))\n",
    "#usa_ufo_df = clean_ufo_df.loc[clean_ufo_df[\"country\"] == \"us\", :]"
   ]
  },
  {
   "cell_type": "code",
   "execution_count": 20,
   "metadata": {},
   "outputs": [
    {
     "data": {
      "text/html": [
       "<div>\n",
       "<style scoped>\n",
       "    .dataframe tbody tr th:only-of-type {\n",
       "        vertical-align: middle;\n",
       "    }\n",
       "\n",
       "    .dataframe tbody tr th {\n",
       "        vertical-align: top;\n",
       "    }\n",
       "\n",
       "    .dataframe thead th {\n",
       "        text-align: right;\n",
       "    }\n",
       "</style>\n",
       "<table border=\"1\" class=\"dataframe\">\n",
       "  <thead>\n",
       "    <tr style=\"text-align: right;\">\n",
       "      <th></th>\n",
       "      <th>Purchasing Analysis (Total)</th>\n",
       "      <th>Unique Items</th>\n",
       "      <th>Average Price</th>\n",
       "      <th>Number of Purchases</th>\n",
       "      <th>Total Revenue</th>\n",
       "    </tr>\n",
       "  </thead>\n",
       "  <tbody>\n",
       "    <tr>\n",
       "      <th>0</th>\n",
       "      <td></td>\n",
       "      <td>183</td>\n",
       "      <td>$3.05</td>\n",
       "      <td>780</td>\n",
       "      <td>$2379.77</td>\n",
       "    </tr>\n",
       "  </tbody>\n",
       "</table>\n",
       "</div>"
      ],
      "text/plain": [
       "  Purchasing Analysis (Total)  Unique Items Average Price  \\\n",
       "0                                       183         $3.05   \n",
       "\n",
       "   Number of Purchases Total Revenue  \n",
       "0                  780      $2379.77  "
      ]
     },
     "execution_count": 20,
     "metadata": {},
     "output_type": "execute_result"
    }
   ],
   "source": [
    "# Create a DataFrame for Purchasing Analysis\n",
    "purchasing_analysis_df = pd.DataFrame ({\n",
    "    \"Purchasing Analysis (Total)\": [\"\"],\n",
    "    \"Unique Items\": [unique_items],\n",
    "    \"Average Price\": [pymol_ave_price],\n",
    "    \"Number of Purchases\": [number_of_purchases],\n",
    "    \"Total Revenue\": [total_revenue],  \n",
    "})\n",
    "##Format as dollars and cents\n",
    "purchasing_analysis_df[\"Average Price\"] = purchasing_analysis_df[\"Average Price\"].map(\"${:.2f}\".format)\n",
    "purchasing_analysis_df[\"Total Revenue\"] = purchasing_analysis_df[\"Total Revenue\"].map(\"${:.2f}\".format)\n",
    "purchasing_analysis_df"
   ]
  },
  {
   "cell_type": "code",
   "execution_count": 10,
   "metadata": {},
   "outputs": [
    {
     "data": {
      "text/html": [
       "<div>\n",
       "<style scoped>\n",
       "    .dataframe tbody tr th:only-of-type {\n",
       "        vertical-align: middle;\n",
       "    }\n",
       "\n",
       "    .dataframe tbody tr th {\n",
       "        vertical-align: top;\n",
       "    }\n",
       "\n",
       "    .dataframe thead th {\n",
       "        text-align: right;\n",
       "    }\n",
       "</style>\n",
       "<table border=\"1\" class=\"dataframe\">\n",
       "  <thead>\n",
       "    <tr style=\"text-align: right;\">\n",
       "      <th></th>\n",
       "      <th>Gender Count</th>\n",
       "      <th>Gender Percentage</th>\n",
       "    </tr>\n",
       "    <tr>\n",
       "      <th>Gender</th>\n",
       "      <th></th>\n",
       "      <th></th>\n",
       "    </tr>\n",
       "  </thead>\n",
       "  <tbody>\n",
       "    <tr>\n",
       "      <th>Female</th>\n",
       "      <td>81</td>\n",
       "      <td>14.06%</td>\n",
       "    </tr>\n",
       "    <tr>\n",
       "      <th>Male</th>\n",
       "      <td>484</td>\n",
       "      <td>84.03%</td>\n",
       "    </tr>\n",
       "    <tr>\n",
       "      <th>Other / Non-Disclosed</th>\n",
       "      <td>11</td>\n",
       "      <td>1.91%</td>\n",
       "    </tr>\n",
       "  </tbody>\n",
       "</table>\n",
       "</div>"
      ],
      "text/plain": [
       "                       Gender Count Gender Percentage\n",
       "Gender                                               \n",
       "Female                           81            14.06%\n",
       "Male                            484            84.03%\n",
       "Other / Non-Disclosed            11             1.91%"
      ]
     },
     "execution_count": 10,
     "metadata": {},
     "output_type": "execute_result"
    }
   ],
   "source": [
    "#Gender Demographics\n",
    "#Percentage and Count of Male Players\n",
    "#Percentage and Count of Female Players\n",
    "#Percentage and Count of Other / Non-Disclosed\n",
    "unique_customers = pymoli_games_df['SN'].nunique(dropna=True)\n",
    "# Gender Countgender_count_df = pymoli_games_df.groupby(\"Gender\")[\"SN\"].nunique()\n",
    "\n",
    "# Gender Percentage\n",
    "gender_percentage = (gender_count_df/unique_customers) * 100\n",
    "gender = gender_percentage.round(2).map(\"{:.2f}%\".format)\n",
    "\n",
    "# Gender demographics summary DataFrame\n",
    "gender_demographics_df = pd.DataFrame({\"Gender Count\": gender_count_df,\"Gender Percentage\": gender})\n",
    "gender_demographics_df\n"
   ]
  },
  {
   "cell_type": "code",
   "execution_count": 21,
   "metadata": {},
   "outputs": [
    {
     "data": {
      "text/html": [
       "<div>\n",
       "<style scoped>\n",
       "    .dataframe tbody tr th:only-of-type {\n",
       "        vertical-align: middle;\n",
       "    }\n",
       "\n",
       "    .dataframe tbody tr th {\n",
       "        vertical-align: top;\n",
       "    }\n",
       "\n",
       "    .dataframe thead th {\n",
       "        text-align: right;\n",
       "    }\n",
       "</style>\n",
       "<table border=\"1\" class=\"dataframe\">\n",
       "  <thead>\n",
       "    <tr style=\"text-align: right;\">\n",
       "      <th></th>\n",
       "      <th>Purchase Count</th>\n",
       "      <th>Average Purchase Price</th>\n",
       "      <th>Total Purchase Value</th>\n",
       "      <th>Average Total Purchase per Person</th>\n",
       "    </tr>\n",
       "    <tr>\n",
       "      <th>Gender</th>\n",
       "      <th></th>\n",
       "      <th></th>\n",
       "      <th></th>\n",
       "      <th></th>\n",
       "    </tr>\n",
       "  </thead>\n",
       "  <tbody>\n",
       "    <tr>\n",
       "      <th>Female</th>\n",
       "      <td>113</td>\n",
       "      <td>$3.20</td>\n",
       "      <td>$361.94</td>\n",
       "      <td>$4.47</td>\n",
       "    </tr>\n",
       "    <tr>\n",
       "      <th>Male</th>\n",
       "      <td>652</td>\n",
       "      <td>$3.02</td>\n",
       "      <td>$1967.64</td>\n",
       "      <td>$4.07</td>\n",
       "    </tr>\n",
       "    <tr>\n",
       "      <th>Other / Non-Disclosed</th>\n",
       "      <td>15</td>\n",
       "      <td>$3.35</td>\n",
       "      <td>$50.19</td>\n",
       "      <td>$4.56</td>\n",
       "    </tr>\n",
       "  </tbody>\n",
       "</table>\n",
       "</div>"
      ],
      "text/plain": [
       "                       Purchase Count Average Purchase Price  \\\n",
       "Gender                                                         \n",
       "Female                            113                  $3.20   \n",
       "Male                              652                  $3.02   \n",
       "Other / Non-Disclosed              15                  $3.35   \n",
       "\n",
       "                      Total Purchase Value Average Total Purchase per Person  \n",
       "Gender                                                                        \n",
       "Female                             $361.94                             $4.47  \n",
       "Male                              $1967.64                             $4.07  \n",
       "Other / Non-Disclosed               $50.19                             $4.56  "
      ]
     },
     "execution_count": 21,
     "metadata": {},
     "output_type": "execute_result"
    }
   ],
   "source": [
    "#Purchasing Analysis (Gender)\n",
    "# Group by Gender\n",
    "gender_purch_anal_df = pymoli_games_df.groupby([\"Gender\"])\n",
    "\n",
    "# Assign Variables\n",
    "cust_count = grouped_df[\"SN\"].count()\n",
    "price_price = grouped_df[\"Price\"].mean()\n",
    "total_value = grouped_df[\"Price\"].sum()\n",
    "\n",
    "# Delete all duplicates\n",
    "dups = pymoli_games_df.drop_duplicates(subset='SN', keep=\"first\")\n",
    "grouped_dup = dups.groupby([\"Gender\"])\n",
    "\n",
    "# Find normalized data\n",
    "per_cust_ave_purc = (grouped_df[\"Price\"].sum() / grouped_dup[\"SN\"].count())\n",
    "\n",
    "# Purchase analysis DataFrame\n",
    "gender_purch_ana = pd.DataFrame({\"Purchase Count\": cust_count,\n",
    "                              \"Average Purchase Price\": price_price,\n",
    "                              \"Total Purchase Value\": total_value,\n",
    "                              \"Average Total Purchase per Person\": per_cust_ave_purc})\n",
    "\n",
    "# Purchasing Analysis(Gender) summary DataFrame\n",
    "gender_purch_ana[\"Average Purchase Price\"] = gender_purch_ana[\"Average Purchase Price\"].map(\"${:.2f}\".format)\n",
    "gender_purch_ana[\"Total Purchase Value\"] = gender_purch_ana[\"Total Purchase Value\"].map(\"${:.2f}\".format)\n",
    "gender_purch_ana[\"Average Total Purchase per Person\"] = gender_purch_ana[\"Average Total Purchase per Person\"].map(\"${:.2f}\".format)\n",
    "gender_purch_ana = gender_purch_ana[[\"Purchase Count\", \"Average Purchase Price\", \"Total Purchase Value\", \"Average Total Purchase per Person\"]]\n",
    "gender_purch_ana\n"
   ]
  },
  {
   "cell_type": "code",
   "execution_count": 55,
   "metadata": {},
   "outputs": [
    {
     "data": {
      "text/html": [
       "<div>\n",
       "<style scoped>\n",
       "    .dataframe tbody tr th:only-of-type {\n",
       "        vertical-align: middle;\n",
       "    }\n",
       "\n",
       "    .dataframe tbody tr th {\n",
       "        vertical-align: top;\n",
       "    }\n",
       "\n",
       "    .dataframe thead th {\n",
       "        text-align: right;\n",
       "    }\n",
       "</style>\n",
       "<table border=\"1\" class=\"dataframe\">\n",
       "  <thead>\n",
       "    <tr style=\"text-align: right;\">\n",
       "      <th></th>\n",
       "      <th>Total Count</th>\n",
       "      <th>Percentage of Players</th>\n",
       "    </tr>\n",
       "    <tr>\n",
       "      <th>Age Groups</th>\n",
       "      <th></th>\n",
       "      <th></th>\n",
       "    </tr>\n",
       "  </thead>\n",
       "  <tbody>\n",
       "    <tr>\n",
       "      <th>&lt;10</th>\n",
       "      <td>23</td>\n",
       "      <td>2.95%</td>\n",
       "    </tr>\n",
       "    <tr>\n",
       "      <th>10-14</th>\n",
       "      <td>28</td>\n",
       "      <td>3.59%</td>\n",
       "    </tr>\n",
       "    <tr>\n",
       "      <th>15-19</th>\n",
       "      <td>136</td>\n",
       "      <td>17.44%</td>\n",
       "    </tr>\n",
       "    <tr>\n",
       "      <th>20-24</th>\n",
       "      <td>365</td>\n",
       "      <td>46.79%</td>\n",
       "    </tr>\n",
       "    <tr>\n",
       "      <th>25-29</th>\n",
       "      <td>101</td>\n",
       "      <td>12.95%</td>\n",
       "    </tr>\n",
       "    <tr>\n",
       "      <th>30-34</th>\n",
       "      <td>73</td>\n",
       "      <td>9.36%</td>\n",
       "    </tr>\n",
       "    <tr>\n",
       "      <th>35-30,</th>\n",
       "      <td>41</td>\n",
       "      <td>5.26%</td>\n",
       "    </tr>\n",
       "    <tr>\n",
       "      <th>40+</th>\n",
       "      <td>13</td>\n",
       "      <td>1.67%</td>\n",
       "    </tr>\n",
       "  </tbody>\n",
       "</table>\n",
       "</div>"
      ],
      "text/plain": [
       "            Total Count Percentage of Players\n",
       "Age Groups                                   \n",
       "<10                  23                 2.95%\n",
       "10-14                28                 3.59%\n",
       "15-19               136                17.44%\n",
       "20-24               365                46.79%\n",
       "25-29               101                12.95%\n",
       "30-34                73                 9.36%\n",
       "35-30,               41                 5.26%\n",
       "40+                  13                 1.67%"
      ]
     },
     "execution_count": 55,
     "metadata": {},
     "output_type": "execute_result"
    }
   ],
   "source": [
    "# Create bins in which to place values based upon player ages\n",
    "# df(describe()) shows youngest and oldest players as 7 and 45 with the average age to be 23.\n",
    "\n",
    "#Total Count\tPercentage of Players\n",
    "unique_customers = pymoli_games_df['SN'].nunique\n",
    "age_bins = [0, 9, 14, 19, 24, 29, 34, 39, 200]\n",
    "\n",
    "# Create labels for these bins\n",
    "age_bins_labels = [\"<10\", \"10-14\", \"15-19\", \"20-24\", \"25-29\", \"30-34\", \"35-30,\", \"40+\"]\n",
    "\n",
    "bins_df = pymoli_games_df.copy()\n",
    "bins_df[\"Age Groups\"] = pd.cut(bins_df[\"Age\"], age_bins, labels=age_bins_labels)\n",
    "group_bins = bins_df.groupby([\"Age Groups\"])\n",
    "\n",
    "# Data manipulation\n",
    "binning = group_bins[\"SN\"].count()\n",
    "counting = pymoli_games_df[\"SN\"].count()\n",
    "\n",
    "\n",
    "price_price = grouped_df[\"Price\"].mean()\n",
    "total_value = grouped_df[\"Price\"].sum()\n",
    "percentage = (binning / counting) * 100\n",
    "# Create new DataFrame\n",
    "perc_age = pd.DataFrame({\"Total Count\": binning,\n",
    "                         \"Percentage of Players\": percentage})\n",
    "\n",
    "# Add formatting to Percentage of Players\n",
    "perc_age[\"Percentage of Players\"] = perc_age[\"Percentage of Players\"].map(\"{:.2f}%\".format)\n",
    "\n",
    "perc_age\n",
    "\n"
   ]
  },
  {
   "cell_type": "code",
   "execution_count": 64,
   "metadata": {},
   "outputs": [
    {
     "ename": "SyntaxError",
     "evalue": "invalid syntax (<ipython-input-64-c9b0ed1544e6>, line 17)",
     "output_type": "error",
     "traceback": [
      "\u001b[0;36m  File \u001b[0;32m\"<ipython-input-64-c9b0ed1544e6>\"\u001b[0;36m, line \u001b[0;32m17\u001b[0m\n\u001b[0;31m    groupe_bins = bin_df.groupby([\"Age Groups\"])\u001b[0m\n\u001b[0m              ^\u001b[0m\n\u001b[0;31mSyntaxError\u001b[0m\u001b[0;31m:\u001b[0m invalid syntax\n"
     ]
    }
   ],
   "source": [
    "#Purchasing Analysis (Age)\n",
    "#Bin the purchase_data data frame by age\n",
    "#Run basic calculations to obtain purchase count, avg. purchase price, avg. purchase total per person etc. \n",
    "#in the table below\n",
    "#Create a summary data frame to hold the results\n",
    "#Optional: give the displayed data cleaner formatting\n",
    "#Display the summary data frame\n",
    "\n",
    "age_bins = [0, 9, 14, 19, 24, 29, 34, 39, 200]\n",
    "\n",
    "# Create labels for these bins\n",
    "age_bins_labels = [\"<10\", \"10-14\", \"15-19\", \"20-24\", \"25-29\", \"30-34\", \"35-30,\", \"40+\"]\n",
    "\n",
    "bin_df = pymoli_games_df.copy()\n",
    "bin_df[\"Age Groups\"] = pd.cut(bin_df[\"Age\"], age_bins, labels=age_bins_labels)\n",
    "binColumn = pd.cut(bin_df[\"Age\"],age_bins, labels=age_bins_labels\n",
    "group_bins = bins_df.groupby([\"Age Groups\"])\n",
    "\n",
    "#Variables assignation\n",
    "bin_Pur_Count = group_bins[\"Age\"].count()\n",
    "bin_Pur_Aver = groupe_bins[\"Price\"].mean()\n",
    "bin_Pur_Total = groupe_bins[\"Price\"].sum()\n",
    "\n",
    "binningdup = pymoli_games_df.drop_duplicates(subset='SN', keep=\"first\")\n",
    "binningdup[\"Age Groups\"] = pd.cut(binningdup[\"Age\"], age_bins, labels=age_bins_labels)\n",
    "binningdup = binningdup.groupby([\"Age Groups\"])\n",
    "\n",
    "\n",
    "bin_Aver_Tot_Cust = (grouped_bin[\"Price\"].sum)() / binningdup[\"SN\"].count()\n"
   ]
  },
  {
   "cell_type": "code",
   "execution_count": 59,
   "metadata": {
    "scrolled": true
   },
   "outputs": [
    {
     "data": {
      "text/html": [
       "<div>\n",
       "<style scoped>\n",
       "    .dataframe tbody tr th:only-of-type {\n",
       "        vertical-align: middle;\n",
       "    }\n",
       "\n",
       "    .dataframe tbody tr th {\n",
       "        vertical-align: top;\n",
       "    }\n",
       "\n",
       "    .dataframe thead th {\n",
       "        text-align: right;\n",
       "    }\n",
       "</style>\n",
       "<table border=\"1\" class=\"dataframe\">\n",
       "  <thead>\n",
       "    <tr style=\"text-align: right;\">\n",
       "      <th></th>\n",
       "      <th>Purchasing Analysis (Age)</th>\n",
       "      <th>Purchase Count</th>\n",
       "      <th>Average Purchase Price</th>\n",
       "      <th>Total Purchase Value</th>\n",
       "      <th>Average Total Purchase per Person</th>\n",
       "    </tr>\n",
       "  </thead>\n",
       "  <tbody>\n",
       "    <tr>\n",
       "      <th>0</th>\n",
       "      <td></td>\n",
       "      <td>Age Groups\n",
       "&lt;10        23\n",
       "10-14      28\n",
       "15-19  ...</td>\n",
       "      <td>Age Groups\n",
       "&lt;10       3.353478\n",
       "10-14     2.9564...</td>\n",
       "      <td>Age Groups\n",
       "&lt;10         77.13\n",
       "10-14       82.78...</td>\n",
       "      <td>Age Groups\n",
       "&lt;10       4.537059\n",
       "10-14     3.7627...</td>\n",
       "    </tr>\n",
       "  </tbody>\n",
       "</table>\n",
       "</div>"
      ],
      "text/plain": [
       "  Purchasing Analysis (Age)  \\\n",
       "0                             \n",
       "\n",
       "                                      Purchase Count  \\\n",
       "0  Age Groups\n",
       "<10        23\n",
       "10-14      28\n",
       "15-19  ...   \n",
       "\n",
       "                              Average Purchase Price  \\\n",
       "0  Age Groups\n",
       "<10       3.353478\n",
       "10-14     2.9564...   \n",
       "\n",
       "                                Total Purchase Value  \\\n",
       "0  Age Groups\n",
       "<10         77.13\n",
       "10-14       82.78...   \n",
       "\n",
       "                   Average Total Purchase per Person  \n",
       "0  Age Groups\n",
       "<10       4.537059\n",
       "10-14     3.7627...  "
      ]
     },
     "execution_count": 59,
     "metadata": {},
     "output_type": "execute_result"
    }
   ],
   "source": [
    "age_purchasing_analysis_df = pd.DataFrame ({\"Purchasing Analysis (Age)\": [\"\"],\n",
    "                                            \"Purchase Count\": [bin_Pur_Count],\n",
    "                                            \"Average Purchase Price\": [bin_Pur_Aver],\n",
    "                                            \"Total Purchase Value\": [bin_Pur_Total],\n",
    "                                            \"Average Total Purchase per Person\": [bin_Aver_Tot_Cust]\n",
    "                                            })\n",
    "\n",
    "age_purchasing_analysis_df"
   ]
  },
  {
   "cell_type": "code",
   "execution_count": 51,
   "metadata": {},
   "outputs": [],
   "source": [
    "#"
   ]
  },
  {
   "cell_type": "code",
   "execution_count": 17,
   "metadata": {},
   "outputs": [],
   "source": [
    "#"
   ]
  },
  {
   "cell_type": "code",
   "execution_count": 1,
   "metadata": {},
   "outputs": [],
   "source": [
    "#pd.cut(pymoli_games_df[\"Age\"], bins, labels=group_labels).head()\n"
   ]
  },
  {
   "cell_type": "code",
   "execution_count": 2,
   "metadata": {},
   "outputs": [],
   "source": [
    "#pd.cut(pymoli_games_df[\"Age\"], bins, labels=group_labels)\n",
    "#pymoli_games_df.head()\n"
   ]
  },
  {
   "cell_type": "code",
   "execution_count": 3,
   "metadata": {},
   "outputs": [],
   "source": [
    "# Create a GroupBy object based upon \"View Group\"\n",
    "#pymoli_age_group = pymoli_games_df.groupby(\"Age Demographics\")\n",
    "\n",
    "# Find how many rows fall into each bin\n",
    "#print(pymoli_age_group[\"Age\"].count())\n",
    "\n",
    "# Get the average of each column within the GroupBy object\n",
    "#pymoli_age_group[[\"Age\"]].mean()\n",
    "#pymol_ave_price_agebinned = total_revenue / number_of_purchases\n",
    "#pymol_ave_price\n",
    "#state_duration = grouped_usa_df[\"duration (seconds)\"].sum()\n",
    "#state_duration.head()\n",
    "#def calc_bin_percentage(group_df):\n",
    "   # bins_count = pymoli_games_df.groupby(\"bins\")[\"pymoli_age_group\"].sum()\n",
    "   # return 100 * bins_count / group_df.sum()\n",
    "\n",
    "#pymoli_games_df.groupby(\"Age\").apply(calc_bin_percentage).unstack().fillna(0)\n",
    "#\tPurchase Count\tAverage Purchase Price\tTotal Purchase Value\tAvg Total Purchase per Person"
   ]
  },
  {
   "cell_type": "code",
   "execution_count": 117,
   "metadata": {},
   "outputs": [],
   "source": [
    "#grouped = df.groupby('Team')\n",
    "#print grouped['Points'].agg([np.sum, np.mean, np.std])\n",
    "#aggregate and Max."
   ]
  },
  {
   "cell_type": "code",
   "execution_count": 33,
   "metadata": {},
   "outputs": [],
   "source": [
    "\n",
    "#pymoli_age_group = pymoli_games_df[\"SN\"].unique [\"Age\"]\n"
   ]
  },
  {
   "cell_type": "code",
   "execution_count": null,
   "metadata": {},
   "outputs": [],
   "source": []
  }
 ],
 "metadata": {
  "kernelspec": {
   "display_name": "Python 3",
   "language": "python",
   "name": "python3"
  },
  "language_info": {
   "codemirror_mode": {
    "name": "ipython",
    "version": 3
   },
   "file_extension": ".py",
   "mimetype": "text/x-python",
   "name": "python",
   "nbconvert_exporter": "python",
   "pygments_lexer": "ipython3",
   "version": "3.7.1"
  }
 },
 "nbformat": 4,
 "nbformat_minor": 2
}
